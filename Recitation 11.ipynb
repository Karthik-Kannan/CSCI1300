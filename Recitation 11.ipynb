{
 "cells": [
  {
   "cell_type": "markdown",
   "metadata": {},
   "source": [
    "## Recitation 11 - Vectors"
   ]
  },
  {
   "cell_type": "markdown",
   "metadata": {},
   "source": [
    "### Introduction"
   ]
  },
  {
   "cell_type": "markdown",
   "metadata": {},
   "source": [
    "Let's start with something we already know about- Arrays. To recap, an array is a contiguous series that holds a fixed number of values of the same datatype. We know how to use indices to access and manipulate arrays. A **vector** is a *template class* that uses all of the syntax that we used with vanilla arrays, but adds in functionality that relieves of the burden of keeping track of memory allocation for the arrays. It also introduces a bunch of other features that makes handling arrays much simpler."
   ]
  },
  {
   "cell_type": "markdown",
   "metadata": {
    "collapsed": true
   },
   "source": [
    "### How Vectors Work- Syntax and Usage"
   ]
  },
  {
   "cell_type": "markdown",
   "metadata": {},
   "source": [
    "First things first. We need to include the apporpriate header files to use the vector class.\n",
    "\n",
    "```cpp\n",
    "#include <vector>\n",
    "```\n",
    "We can now move on to declaring a vector. This is general format of any  vectordeclaration:\n",
    "```cpp\n",
    "vector <datatype-here> name(size);\n",
    "```\n",
    "The size field is optional. Vectors are dynamically-sized, so the size that you give them during initialization isn't permanent- they can be resized as necessary. Let's look at a few examples\n",
    "```cpp\n",
    "vector <int> array1(10); //Initializes a vector that can store int values of size 10.\n",
    "vector <string> array2; //Initializes an empty vector that can store strings.\n",
    "```\n",
    "\n",
    "You can access elements of a vector in the same way you would access elements in an array, for example `array[4]`. Remember, indices begin from 0.\n",
    "\n",
    "You can find a quick reference to the functions available in C++ vector class in a nice PDF form [here](http://www.broculos.net/2007/11/c-stl-vector-class-cheatsheet.html), but we'll run through the essential ones as part of this recitation.\n"
   ]
  },
  {
   "cell_type": "markdown",
   "metadata": {},
   "source": [
    "### Recitation Activity Task 1"
   ]
  },
  {
   "cell_type": "markdown",
   "metadata": {},
   "source": [
    "For this activity we have a class defined in the stringReader.cpp file. For brevity, the class declarations, functions and the main function are all present in the same file. Most of the code for the exercise has been written out for you. You will only need to add code in sections that pertain to vectors (marked by comments). \n",
    "\n",
    "The given class following functionality\n",
    "- Adding strings to a vector after reading from a file \n",
    "- Finding the first matched string in the vector using a substring.\n",
    "- Removing *all* strings that match a given substring. \n",
    "\n",
    "Lets look at the class definition.\n",
    "```cpp\n",
    "class StringReader{\n",
    "\tprivate:\n",
    "\t\t//TODO: Initialize an empty vector of type string here\n",
    "\t\t//The name of the vector should be \"stringList\"\n",
    "\tpublic:\n",
    "\t\tvoid readFromFile(string);\n",
    "\t\tint findFirstStringMatch(string);\n",
    "\t\tvoid removeStringbyValue(string);\n",
    "\t\tstring getStringAtIndex(int);\n",
    "\t\tint getListSize();\n",
    "};\n",
    "```\n",
    "\n",
    "We need to add in the vector definition in the class following the instructions given. We need an empty vector of type string with the name \"stringList\". Lets go ahead and do that. \n",
    "\n",
    "```cpp\n",
    "class StringReader{\n",
    "\tprivate:\n",
    "\t\tvector<string> stringList;\n",
    "\tpublic:\n",
    "\t\tvoid readFromFile(string);\n",
    "\t\tint findFirstStringMatch(string);\n",
    "\t\tvoid removeStringbyValue(string);\n",
    "\t\tstring getStringAtIndex(int);\n",
    "\t\tint getListSize();\n",
    "};\n",
    "```\n",
    "\n",
    "This is our class definition with all the required variables an functions. We can move on  to the function definitions.\n"
   ]
  },
  {
   "cell_type": "markdown",
   "metadata": {},
   "source": [
    "##### readFromFIle\n",
    "\n",
    "```cpp\n",
    "void StringReader::readFromFile(string filename)\n",
    "{\n",
    "\tifstream inputFile(filename.c_str());\n",
    "\tstring name;\n",
    "\twhile(getline(inputFile, name))\n",
    "\t{\n",
    "\t\t//TODO: Append the variable read from the file to stringList\n",
    "\t}\n",
    "}\n",
    "```\n",
    "\n",
    "This function reads strings seperated by the newline character in a file and appends this data to the string vector of the class.\n",
    "\n",
    "Adding elements to vectors are done primarily using two functions `pushback()` and `insert()`\n",
    "\n",
    "`push_back()` takes in one parameter- The element to be added and appends it to the end of the vector. \n",
    "\n",
    "```cpp\n",
    "vector <int> array1; // initializes an empty array\n",
    "array1.push_back(10) //Adds 10 to the end of the array. \n",
    "cout<< array1.size() //This will print the size of the array - in this case, 1.\n",
    "```\n",
    "\n",
    "To add an element in the middle of the vector, use `insert()`.  The format of insert is-\n",
    "\n",
    "```cpp\n",
    "vector-name.insert(vector-name.begin()+ position, value)\n",
    "```\n",
    "For example-\n",
    "```cpp\n",
    "array1.insert(array1.begin()+ 3, value) //Inserts an element in index 3. \n",
    "```\n",
    "\n",
    "For our case in readFromFile we need to the append the line read from the file at the end of `stringList`. We can use `push_back()` for this purpose.\n",
    "\n",
    "```cpp\n",
    "void StringReader::readFromFile(string filename)\n",
    "{\n",
    "\tifstream inputFile(filename.c_str());\n",
    "\tstring line;\n",
    "\twhile(getline(inputFile, line))\n",
    "\t{\n",
    "\t\tstringList.push_back(line);\n",
    "\t}\n",
    "}\n",
    "```"
   ]
  },
  {
   "cell_type": "code",
   "execution_count": null,
   "metadata": {
    "collapsed": true
   },
   "outputs": [],
   "source": []
  }
 ],
 "metadata": {
  "kernelspec": {
   "display_name": "Python 3",
   "language": "python",
   "name": "python3"
  },
  "language_info": {
   "codemirror_mode": {
    "name": "ipython",
    "version": 3
   },
   "file_extension": ".py",
   "mimetype": "text/x-python",
   "name": "python",
   "nbconvert_exporter": "python",
   "pygments_lexer": "ipython3",
   "version": "3.6.0"
  }
 },
 "nbformat": 4,
 "nbformat_minor": 2
}
